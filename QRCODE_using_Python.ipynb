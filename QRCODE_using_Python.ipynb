{
  "cells": [
    {
      "attachments": {},
      "cell_type": "markdown",
      "metadata": {
        "id": "uIYO4TEorJd9"
      },
      "source": [
        "#**QRCODE**"
      ]
    },
    {
      "attachments": {},
      "cell_type": "markdown",
      "metadata": {
        "id": "vHXoOJbprWLF"
      },
      "source": [
        "# Mount the Google Drive or you can use the local folder."
      ]
    },
    {
      "cell_type": "code",
      "execution_count": null,
      "metadata": {
        "colab": {
          "base_uri": "https://localhost:8080/"
        },
        "id": "yjqfxgPGrBU6",
        "outputId": "cb8395bf-851a-4eb4-dcb6-4c6a15e36f36"
      },
      "outputs": [
        {
          "name": "stdout",
          "output_type": "stream",
          "text": [
            "Mounted at /content/drive\n"
          ]
        }
      ],
      "source": [
        "from google.colab import drive\n",
        "drive.mount(\"/content/drive\")"
      ]
    },
    {
      "cell_type": "markdown",
      "metadata": {
        "id": "cYUmt32Wr0Xm"
      },
      "source": [
        "### Now we will install Pillow Library"
      ]
    },
    {
      "cell_type": "code",
      "execution_count": null,
      "metadata": {
        "colab": {
          "base_uri": "https://localhost:8080/"
        },
        "id": "UwISaH5Hru7Z",
        "outputId": "1435a194-220a-4b2d-dbce-471196330c6b"
      },
      "outputs": [
        {
          "name": "stdout",
          "output_type": "stream",
          "text": [
            "Looking in indexes: https://pypi.org/simple, https://us-python.pkg.dev/colab-wheels/public/simple/\n",
            "Requirement already satisfied: pillow in /usr/local/lib/python3.8/dist-packages (7.1.2)\n"
          ]
        }
      ],
      "source": [
        "!pip install pillow"
      ]
    },
    {
      "cell_type": "markdown",
      "metadata": {
        "id": "8qV1j8IesAV8"
      },
      "source": [
        "### Now we will install qrcode Library"
      ]
    },
    {
      "cell_type": "code",
      "execution_count": null,
      "metadata": {
        "colab": {
          "base_uri": "https://localhost:8080/"
        },
        "id": "rbnVZKdUr-Qp",
        "outputId": "5efa0d57-53e9-4706-d24c-4063addca3c6"
      },
      "outputs": [
        {
          "name": "stdout",
          "output_type": "stream",
          "text": [
            "Looking in indexes: https://pypi.org/simple, https://us-python.pkg.dev/colab-wheels/public/simple/\n",
            "Collecting qrcode\n",
            "  Downloading qrcode-7.4.1-py3-none-any.whl (46 kB)\n",
            "\u001b[2K     \u001b[90m━━━━━━━━━━━━━━━━━━━━━━━━━━━━━━━━━━━━━━━━\u001b[0m \u001b[32m46.0/46.0 KB\u001b[0m \u001b[31m3.4 MB/s\u001b[0m eta \u001b[36m0:00:00\u001b[0m\n",
            "\u001b[?25hRequirement already satisfied: typing-extensions in /usr/local/lib/python3.8/dist-packages (from qrcode) (4.4.0)\n",
            "Collecting pypng\n",
            "  Downloading pypng-0.20220715.0-py3-none-any.whl (58 kB)\n",
            "\u001b[2K     \u001b[90m━━━━━━━━━━━━━━━━━━━━━━━━━━━━━━━━━━━━━━━━\u001b[0m \u001b[32m58.1/58.1 KB\u001b[0m \u001b[31m5.6 MB/s\u001b[0m eta \u001b[36m0:00:00\u001b[0m\n",
            "\u001b[?25hInstalling collected packages: pypng, qrcode\n",
            "Successfully installed pypng-0.20220715.0 qrcode-7.4.1\n"
          ]
        }
      ],
      "source": [
        "!pip install qrcode"
      ]
    },
    {
      "cell_type": "markdown",
      "metadata": {
        "id": "TNRP3191sQd9"
      },
      "source": [
        "### Now we will write our main code to generate QR code\n"
      ]
    },
    {
      "cell_type": "code",
      "execution_count": null,
      "metadata": {
        "id": "VcCeuVfSsO9c"
      },
      "outputs": [],
      "source": [
        "import qrcode\n",
        "\n",
        "#Link for website\n",
        "input_data = \"www.amazon.com\"\n",
        "\n",
        "#Creating an instance of QRcode\n",
        "qr = qrcode.QRCode(\n",
        "    version = 1,\n",
        "    box_size = 10,\n",
        "    border = 7)\n",
        "qr.add_data(input_data)\n",
        "qr.make(fit=True)\n",
        "img = qr.make_image(fill='black', back_color='white')\n",
        "img.save(\"/content/drive/MyDrive/QRCODE/qrcode.png\")\n",
        "\n"
      ]
    },
    {
      "cell_type": "code",
      "execution_count": null,
      "metadata": {
        "id": "GBIkt1rDtqye"
      },
      "outputs": [],
      "source": []
    }
  ],
  "metadata": {
    "colab": {
      "provenance": []
    },
    "kernelspec": {
      "display_name": "Python 3",
      "language": "python",
      "name": "python3"
    },
    "language_info": {
      "name": "python",
      "version": "3.10.10"
    },
    "vscode": {
      "interpreter": {
        "hash": "3b82dd04aca1ea9707db71ce846c2d01bc48a41f3af3fd49cc4ebdd9b04249ce"
      }
    }
  },
  "nbformat": 4,
  "nbformat_minor": 0
}
